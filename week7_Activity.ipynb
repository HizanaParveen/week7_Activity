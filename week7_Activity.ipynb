{
 "cells": [
  {
   "cell_type": "markdown",
   "id": "3c5100d8",
   "metadata": {},
   "source": [
    "### import libraries "
   ]
  },
  {
   "cell_type": "code",
   "execution_count": 1,
   "id": "c6657cfc",
   "metadata": {},
   "outputs": [],
   "source": [
    "import pandas as pd\n",
    "import numpy as np\n",
    "import matplotlib.pyplot as plt\n",
    "import seaborn as sns\n",
    "#library for t test\n",
    "from scipy.stats import ttest_ind"
   ]
  },
  {
   "cell_type": "markdown",
   "id": "3b4eb032",
   "metadata": {},
   "source": [
    "### Read data"
   ]
  },
  {
   "cell_type": "code",
   "execution_count": 2,
   "id": "d71d59ca",
   "metadata": {},
   "outputs": [
    {
     "data": {
      "text/html": [
       "<div>\n",
       "<style scoped>\n",
       "    .dataframe tbody tr th:only-of-type {\n",
       "        vertical-align: middle;\n",
       "    }\n",
       "\n",
       "    .dataframe tbody tr th {\n",
       "        vertical-align: top;\n",
       "    }\n",
       "\n",
       "    .dataframe thead th {\n",
       "        text-align: right;\n",
       "    }\n",
       "</style>\n",
       "<table border=\"1\" class=\"dataframe\">\n",
       "  <thead>\n",
       "    <tr style=\"text-align: right;\">\n",
       "      <th></th>\n",
       "      <th>Gender</th>\n",
       "      <th>Test preparation</th>\n",
       "      <th>Total Marks</th>\n",
       "    </tr>\n",
       "  </thead>\n",
       "  <tbody>\n",
       "    <tr>\n",
       "      <th>0</th>\n",
       "      <td>male</td>\n",
       "      <td>none</td>\n",
       "      <td>14</td>\n",
       "    </tr>\n",
       "    <tr>\n",
       "      <th>1</th>\n",
       "      <td>female</td>\n",
       "      <td>none</td>\n",
       "      <td>28</td>\n",
       "    </tr>\n",
       "    <tr>\n",
       "      <th>2</th>\n",
       "      <td>female</td>\n",
       "      <td>none</td>\n",
       "      <td>18</td>\n",
       "    </tr>\n",
       "    <tr>\n",
       "      <th>3</th>\n",
       "      <td>female</td>\n",
       "      <td>none</td>\n",
       "      <td>48</td>\n",
       "    </tr>\n",
       "    <tr>\n",
       "      <th>4</th>\n",
       "      <td>female</td>\n",
       "      <td>none</td>\n",
       "      <td>21</td>\n",
       "    </tr>\n",
       "  </tbody>\n",
       "</table>\n",
       "</div>"
      ],
      "text/plain": [
       "   Gender Test preparation  Total Marks\n",
       "0    male             none           14\n",
       "1  female             none           28\n",
       "2  female             none           18\n",
       "3  female             none           48\n",
       "4  female             none           21"
      ]
     },
     "execution_count": 2,
     "metadata": {},
     "output_type": "execute_result"
    }
   ],
   "source": [
    "data=pd.read_csv('dataset w7.csv')\n",
    "data.head()"
   ]
  },
  {
   "cell_type": "markdown",
   "id": "85a6ca0e",
   "metadata": {},
   "source": [
    "### 1. Carry out descriptive analytics on the dataset."
   ]
  },
  {
   "cell_type": "code",
   "execution_count": 3,
   "id": "1abd1b00",
   "metadata": {},
   "outputs": [
    {
     "data": {
      "text/plain": [
       "female    16\n",
       "male      12\n",
       "Name: Gender, dtype: int64"
      ]
     },
     "execution_count": 3,
     "metadata": {},
     "output_type": "execute_result"
    }
   ],
   "source": [
    "data['Gender'].value_counts()"
   ]
  },
  {
   "cell_type": "code",
   "execution_count": 4,
   "id": "f22dcc22",
   "metadata": {},
   "outputs": [
    {
     "data": {
      "text/plain": [
       "none         21\n",
       "completed     7\n",
       "Name: Test preparation, dtype: int64"
      ]
     },
     "execution_count": 4,
     "metadata": {},
     "output_type": "execute_result"
    }
   ],
   "source": [
    "data['Test preparation'].value_counts()"
   ]
  },
  {
   "cell_type": "code",
   "execution_count": 5,
   "id": "684fafc9",
   "metadata": {},
   "outputs": [
    {
     "data": {
      "text/html": [
       "<div>\n",
       "<style scoped>\n",
       "    .dataframe tbody tr th:only-of-type {\n",
       "        vertical-align: middle;\n",
       "    }\n",
       "\n",
       "    .dataframe tbody tr th {\n",
       "        vertical-align: top;\n",
       "    }\n",
       "\n",
       "    .dataframe thead th {\n",
       "        text-align: right;\n",
       "    }\n",
       "</style>\n",
       "<table border=\"1\" class=\"dataframe\">\n",
       "  <thead>\n",
       "    <tr style=\"text-align: right;\">\n",
       "      <th></th>\n",
       "      <th>Total Marks</th>\n",
       "    </tr>\n",
       "  </thead>\n",
       "  <tbody>\n",
       "    <tr>\n",
       "      <th>count</th>\n",
       "      <td>28.000000</td>\n",
       "    </tr>\n",
       "    <tr>\n",
       "      <th>mean</th>\n",
       "      <td>32.321429</td>\n",
       "    </tr>\n",
       "    <tr>\n",
       "      <th>std</th>\n",
       "      <td>12.454520</td>\n",
       "    </tr>\n",
       "    <tr>\n",
       "      <th>min</th>\n",
       "      <td>12.000000</td>\n",
       "    </tr>\n",
       "    <tr>\n",
       "      <th>25%</th>\n",
       "      <td>22.500000</td>\n",
       "    </tr>\n",
       "    <tr>\n",
       "      <th>50%</th>\n",
       "      <td>33.000000</td>\n",
       "    </tr>\n",
       "    <tr>\n",
       "      <th>75%</th>\n",
       "      <td>43.250000</td>\n",
       "    </tr>\n",
       "    <tr>\n",
       "      <th>max</th>\n",
       "      <td>50.000000</td>\n",
       "    </tr>\n",
       "  </tbody>\n",
       "</table>\n",
       "</div>"
      ],
      "text/plain": [
       "       Total Marks\n",
       "count    28.000000\n",
       "mean     32.321429\n",
       "std      12.454520\n",
       "min      12.000000\n",
       "25%      22.500000\n",
       "50%      33.000000\n",
       "75%      43.250000\n",
       "max      50.000000"
      ]
     },
     "execution_count": 5,
     "metadata": {},
     "output_type": "execute_result"
    }
   ],
   "source": [
    "data.describe()"
   ]
  },
  {
   "cell_type": "code",
   "execution_count": 6,
   "id": "205cb43a",
   "metadata": {},
   "outputs": [
    {
     "data": {
      "text/plain": [
       "33.0"
      ]
     },
     "execution_count": 6,
     "metadata": {},
     "output_type": "execute_result"
    }
   ],
   "source": [
    "data['Total Marks'].median()"
   ]
  },
  {
   "cell_type": "code",
   "execution_count": 7,
   "id": "677bdfae",
   "metadata": {},
   "outputs": [
    {
     "data": {
      "text/plain": [
       "0    14\n",
       "1    18\n",
       "2    27\n",
       "3    28\n",
       "4    41\n",
       "5    43\n",
       "6    44\n",
       "7    48\n",
       "Name: Total Marks, dtype: int64"
      ]
     },
     "execution_count": 7,
     "metadata": {},
     "output_type": "execute_result"
    }
   ],
   "source": [
    "data['Total Marks'].mode()"
   ]
  },
  {
   "cell_type": "code",
   "execution_count": 8,
   "id": "d06e9362",
   "metadata": {},
   "outputs": [
    {
     "data": {
      "text/html": [
       "<div>\n",
       "<style scoped>\n",
       "    .dataframe tbody tr th:only-of-type {\n",
       "        vertical-align: middle;\n",
       "    }\n",
       "\n",
       "    .dataframe tbody tr th {\n",
       "        vertical-align: top;\n",
       "    }\n",
       "\n",
       "    .dataframe thead tr th {\n",
       "        text-align: left;\n",
       "    }\n",
       "\n",
       "    .dataframe thead tr:last-of-type th {\n",
       "        text-align: right;\n",
       "    }\n",
       "</style>\n",
       "<table border=\"1\" class=\"dataframe\">\n",
       "  <thead>\n",
       "    <tr>\n",
       "      <th></th>\n",
       "      <th colspan=\"8\" halign=\"left\">Total Marks</th>\n",
       "    </tr>\n",
       "    <tr>\n",
       "      <th></th>\n",
       "      <th>count</th>\n",
       "      <th>mean</th>\n",
       "      <th>std</th>\n",
       "      <th>min</th>\n",
       "      <th>25%</th>\n",
       "      <th>50%</th>\n",
       "      <th>75%</th>\n",
       "      <th>max</th>\n",
       "    </tr>\n",
       "    <tr>\n",
       "      <th>Gender</th>\n",
       "      <th></th>\n",
       "      <th></th>\n",
       "      <th></th>\n",
       "      <th></th>\n",
       "      <th></th>\n",
       "      <th></th>\n",
       "      <th></th>\n",
       "      <th></th>\n",
       "    </tr>\n",
       "  </thead>\n",
       "  <tbody>\n",
       "    <tr>\n",
       "      <th>female</th>\n",
       "      <td>16.0</td>\n",
       "      <td>33.750000</td>\n",
       "      <td>12.865976</td>\n",
       "      <td>12.0</td>\n",
       "      <td>25.50</td>\n",
       "      <td>39.0</td>\n",
       "      <td>43.50</td>\n",
       "      <td>50.0</td>\n",
       "    </tr>\n",
       "    <tr>\n",
       "      <th>male</th>\n",
       "      <td>12.0</td>\n",
       "      <td>30.416667</td>\n",
       "      <td>12.168950</td>\n",
       "      <td>14.0</td>\n",
       "      <td>21.75</td>\n",
       "      <td>29.0</td>\n",
       "      <td>43.25</td>\n",
       "      <td>47.0</td>\n",
       "    </tr>\n",
       "  </tbody>\n",
       "</table>\n",
       "</div>"
      ],
      "text/plain": [
       "       Total Marks                                                      \n",
       "             count       mean        std   min    25%   50%    75%   max\n",
       "Gender                                                                  \n",
       "female        16.0  33.750000  12.865976  12.0  25.50  39.0  43.50  50.0\n",
       "male          12.0  30.416667  12.168950  14.0  21.75  29.0  43.25  47.0"
      ]
     },
     "execution_count": 8,
     "metadata": {},
     "output_type": "execute_result"
    }
   ],
   "source": [
    "df=data[['Gender','Total Marks']].groupby('Gender').describe()\n",
    "df"
   ]
  },
  {
   "cell_type": "code",
   "execution_count": 9,
   "id": "dee3428f",
   "metadata": {},
   "outputs": [
    {
     "data": {
      "text/plain": [
       "Text(0, 0.5, 'Mean Mark')"
      ]
     },
     "execution_count": 9,
     "metadata": {},
     "output_type": "execute_result"
    },
    {
     "data": {
      "image/png": "[encoded data removed]",
      "text/plain": [
       "<Figure size 432x288 with 1 Axes>"
      ]
     },
     "metadata": {
      "needs_background": "light"
     },
     "output_type": "display_data"
    }
   ],
   "source": [
    "df1=data[['Gender','Total Marks']].groupby('Gender').mean()\n",
    "df1.plot(kind='bar')\n",
    "plt.title('Mean Mark of Male and Female in the sample')\n",
    "plt.xticks(rotation=0)\n",
    "plt.xlabel('Gender')\n",
    "plt.ylabel('Mean Mark')"
   ]
  },
  {
   "cell_type": "code",
   "execution_count": 10,
   "id": "3da3c447",
   "metadata": {},
   "outputs": [
    {
     "data": {
      "text/html": [
       "<div>\n",
       "<style scoped>\n",
       "    .dataframe tbody tr th:only-of-type {\n",
       "        vertical-align: middle;\n",
       "    }\n",
       "\n",
       "    .dataframe tbody tr th {\n",
       "        vertical-align: top;\n",
       "    }\n",
       "\n",
       "    .dataframe thead tr th {\n",
       "        text-align: left;\n",
       "    }\n",
       "\n",
       "    .dataframe thead tr:last-of-type th {\n",
       "        text-align: right;\n",
       "    }\n",
       "</style>\n",
       "<table border=\"1\" class=\"dataframe\">\n",
       "  <thead>\n",
       "    <tr>\n",
       "      <th></th>\n",
       "      <th colspan=\"8\" halign=\"left\">Total Marks</th>\n",
       "    </tr>\n",
       "    <tr>\n",
       "      <th></th>\n",
       "      <th>count</th>\n",
       "      <th>mean</th>\n",
       "      <th>std</th>\n",
       "      <th>min</th>\n",
       "      <th>25%</th>\n",
       "      <th>50%</th>\n",
       "      <th>75%</th>\n",
       "      <th>max</th>\n",
       "    </tr>\n",
       "    <tr>\n",
       "      <th>Test preparation</th>\n",
       "      <th></th>\n",
       "      <th></th>\n",
       "      <th></th>\n",
       "      <th></th>\n",
       "      <th></th>\n",
       "      <th></th>\n",
       "      <th></th>\n",
       "      <th></th>\n",
       "    </tr>\n",
       "  </thead>\n",
       "  <tbody>\n",
       "    <tr>\n",
       "      <th>completed</th>\n",
       "      <td>7.0</td>\n",
       "      <td>44.571429</td>\n",
       "      <td>3.359422</td>\n",
       "      <td>40.0</td>\n",
       "      <td>43.0</td>\n",
       "      <td>44.0</td>\n",
       "      <td>46.0</td>\n",
       "      <td>50.0</td>\n",
       "    </tr>\n",
       "    <tr>\n",
       "      <th>none</th>\n",
       "      <td>21.0</td>\n",
       "      <td>28.238095</td>\n",
       "      <td>11.661495</td>\n",
       "      <td>12.0</td>\n",
       "      <td>18.0</td>\n",
       "      <td>27.0</td>\n",
       "      <td>38.0</td>\n",
       "      <td>48.0</td>\n",
       "    </tr>\n",
       "  </tbody>\n",
       "</table>\n",
       "</div>"
      ],
      "text/plain": [
       "                 Total Marks                                                \\\n",
       "                       count       mean        std   min   25%   50%   75%   \n",
       "Test preparation                                                             \n",
       "completed                7.0  44.571429   3.359422  40.0  43.0  44.0  46.0   \n",
       "none                    21.0  28.238095  11.661495  12.0  18.0  27.0  38.0   \n",
       "\n",
       "                        \n",
       "                   max  \n",
       "Test preparation        \n",
       "completed         50.0  \n",
       "none              48.0  "
      ]
     },
     "execution_count": 10,
     "metadata": {},
     "output_type": "execute_result"
    }
   ],
   "source": [
    "df2a=data[['Test preparation','Total Marks']].groupby('Test preparation').describe()\n",
    "df2a"
   ]
  },
  {
   "cell_type": "code",
   "execution_count": 11,
   "id": "7d0ab9e0",
   "metadata": {},
   "outputs": [
    {
     "data": {
      "text/plain": [
       "Text(0, 0.5, 'Mean Mark')"
      ]
     },
     "execution_count": 11,
     "metadata": {},
     "output_type": "execute_result"
    },
    {
     "data": {
      "image/png": "[encoded data removed]",
      "text/plain": [
       "<Figure size 432x288 with 1 Axes>"
      ]
     },
     "metadata": {
      "needs_background": "light"
     },
     "output_type": "display_data"
    }
   ],
   "source": [
    "df2=data[['Test preparation','Total Marks']].groupby('Test preparation').mean()\n",
    "df2.plot(kind='bar')\n",
    "plt.title('Mean Mark of Test preparation status')\n",
    "plt.xticks(rotation=0)\n",
    "plt.xlabel('Test preparation status')\n",
    "plt.ylabel('Mean Mark')"
   ]
  },
  {
   "cell_type": "markdown",
   "id": "e986fd14",
   "metadata": {},
   "source": [
    "### 2. Check whether female and male students scored the same marks.\n"
   ]
  },
  {
   "cell_type": "markdown",
   "id": "82a4f8a3",
   "metadata": {},
   "source": [
    "Here the sample size is less than 30 and population standard deviation is unknown, so we go for the T Test with level of significance 5% (alpha=0.05)"
   ]
  },
  {
   "cell_type": "code",
   "execution_count": 12,
   "id": "b41e8fa9",
   "metadata": {},
   "outputs": [],
   "source": [
    "#H0: Both male and Female students scored different Marks\n",
    "#H1: Male and female students scored the same marks\n"
   ]
  },
  {
   "cell_type": "code",
   "execution_count": 13,
   "id": "6971deed",
   "metadata": {},
   "outputs": [],
   "source": [
    "Female=data[data['Gender'] == 'female']['Total Marks']\n",
    "Male=data[data['Gender'] =='male']['Total Marks']"
   ]
  },
  {
   "cell_type": "code",
   "execution_count": 14,
   "id": "3ac6c11e",
   "metadata": {},
   "outputs": [],
   "source": [
    "alpha=0.05"
   ]
  },
  {
   "cell_type": "code",
   "execution_count": 15,
   "id": "b8f44bed",
   "metadata": {},
   "outputs": [
    {
     "name": "stdout",
     "output_type": "stream",
     "text": [
      "P Value :  0.4937822317960763\n"
     ]
    }
   ],
   "source": [
    "_,P = ttest_ind(Female,Male)\n",
    "print(\"P Value : \",P)"
   ]
  },
  {
   "cell_type": "code",
   "execution_count": 16,
   "id": "dd2f8f83",
   "metadata": {},
   "outputs": [
    {
     "name": "stdout",
     "output_type": "stream",
     "text": [
      "Failing to Reject H0\n"
     ]
    }
   ],
   "source": [
    "if P>alpha:\n",
    "    print(\"Failing to Reject H0\")\n",
    "else:\n",
    "    print(\"rejecting the H0\")"
   ]
  },
  {
   "cell_type": "markdown",
   "id": "6c6168ef",
   "metadata": {},
   "source": [
    "Here p value > alpha, therefore, we accept the Null hypothesis\n",
    "\n",
    "we conclude that male and female students scored different marks"
   ]
  },
  {
   "cell_type": "markdown",
   "id": "5059a47f",
   "metadata": {},
   "source": [
    "### 3. Check whether test preparation helps the students"
   ]
  },
  {
   "cell_type": "code",
   "execution_count": 17,
   "id": "5693cc2b",
   "metadata": {},
   "outputs": [],
   "source": [
    "#H0: Test preparation doesnt make any significant change in the marks of the students\n",
    "#H1: Test preparation helps make significant change in the marks of the students"
   ]
  },
  {
   "cell_type": "code",
   "execution_count": 18,
   "id": "088845e0",
   "metadata": {},
   "outputs": [],
   "source": [
    "none=data[data['Test preparation']=='none']['Total Marks']\n",
    "completed=data[data['Test preparation']=='completed']['Total Marks']"
   ]
  },
  {
   "cell_type": "code",
   "execution_count": 19,
   "id": "0af69f37",
   "metadata": {},
   "outputs": [],
   "source": [
    "alpha=0.05"
   ]
  },
  {
   "cell_type": "code",
   "execution_count": 20,
   "id": "747ab5ac",
   "metadata": {},
   "outputs": [
    {
     "name": "stdout",
     "output_type": "stream",
     "text": [
      "P Value :  0.0012671292457320106\n"
     ]
    }
   ],
   "source": [
    "_,P = ttest_ind(none,completed)\n",
    "print(\"P Value : \",P)"
   ]
  },
  {
   "cell_type": "code",
   "execution_count": 21,
   "id": "b08816d4",
   "metadata": {},
   "outputs": [
    {
     "name": "stdout",
     "output_type": "stream",
     "text": [
      "rejecting the H0\n"
     ]
    }
   ],
   "source": [
    "if P>alpha:\n",
    "    print(\"Failing to Reject H0\")\n",
    "else:\n",
    "    print(\"rejecting the H0\")"
   ]
  },
  {
   "cell_type": "markdown",
   "id": "148c2b03",
   "metadata": {},
   "source": [
    "Here alpha > P Value, therefore we reject null hypothesis and accept the alternative hypothesis.\n",
    "\n",
    "we conclude that Test preparation helps make significant change in the marks of the students\n"
   ]
  },
  {
   "cell_type": "code",
   "execution_count": null,
   "id": "3cef40ee",
   "metadata": {},
   "outputs": [],
   "source": []
  }
 ],
 "metadata": {
  "kernelspec": {
   "display_name": "Python 3 (ipykernel)",
   "language": "python",
   "name": "python3"
  },
  "language_info": {
   "codemirror_mode": {
    "name": "ipython",
    "version": 3
   },
   "file_extension": ".py",
   "mimetype": "text/x-python",
   "name": "python",
   "nbconvert_exporter": "python",
   "pygments_lexer": "ipython3",
   "version": "3.9.12"
  }
 },
 "nbformat": 4,
 "nbformat_minor": 5
}
